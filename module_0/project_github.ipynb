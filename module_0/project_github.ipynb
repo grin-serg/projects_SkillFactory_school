{
 "cells": [
  {
   "cell_type": "code",
   "execution_count": 119,
   "metadata": {},
   "outputs": [
    {
     "name": "stdout",
     "output_type": "stream",
     "text": [
      "Ваш алгоритм угадывает число в среднем за 5 попыток\n"
     ]
    }
   ],
   "source": [
    "import numpy as np\n",
    "\n",
    "# score_game возвращает score средне-арифмитическое число угадывания числа в диапазоне от min_num до max_num\n",
    "\n",
    "def score_game(min_num, max_num, game_core):\n",
    "        \n",
    "    count_ls = []\n",
    "    score = 0\n",
    "    if min_num != max_num:\n",
    "        if min_num > max_num:\n",
    "            temp = min_num\n",
    "            min_num = max_num\n",
    "            max_num = temp\n",
    "        np.random.seed(1)  # фиксируем RANDOM SEED, чтобы ваш эксперимент был воспроизводим!\n",
    "        random_array = np.random.randint(min_num, max_num, size = (1000))\n",
    "        for number in random_array:\n",
    "            count_ls.append(game_core(min_num, max_num, number))\n",
    "        score = int(np.mean(count_ls))\n",
    "        print(f\"Ваш алгоритм угадывает число в среднем за {score} попыток\")      \n",
    "    \n",
    "    else: print(\"Необходимо выбрать диапазон из двух разных чисел. Иначе выбирать нечего!\")\n",
    "       \n",
    "    return\n",
    "\n",
    "# Алгоритм бинарного поиска числа comp_num в сортированном массиве от min_num до max_num\n",
    "# Возвращает step количество итераций, за которые данное число находится\n",
    "\n",
    "def game_core(min_num, max_num, comp_num):\n",
    "    \n",
    "    step = 0\n",
    "\n",
    "    if comp_num == max_num:\n",
    "        num = comp_num\n",
    "        step = 1\n",
    "    else:\n",
    "        while True:\n",
    "            num = (min_num+max_num) // 2\n",
    "            step += 1\n",
    "            if num == comp_num:\n",
    "                break\n",
    "            elif num > comp_num:\n",
    "                max_num = num\n",
    "            else:\n",
    "                min_num = num\n",
    "    return step\n",
    "\n",
    "# Запуск программы, где 1й и 2й аргумент - это диапазон, в котором будет загадываемое число\n",
    "# Возвращает среднее число итераций из 1000 попыток поиска\n",
    "\n",
    "score_game(1, 100, game_core)"
   ]
  }
 ],
 "metadata": {
  "kernelspec": {
   "display_name": "Python 3",
   "language": "python",
   "name": "python3"
  },
  "language_info": {
   "codemirror_mode": {
    "name": "ipython",
    "version": 3
   },
   "file_extension": ".py",
   "mimetype": "text/x-python",
   "name": "python",
   "nbconvert_exporter": "python",
   "pygments_lexer": "ipython3",
   "version": "3.8.5"
  }
 },
 "nbformat": 4,
 "nbformat_minor": 4
}
